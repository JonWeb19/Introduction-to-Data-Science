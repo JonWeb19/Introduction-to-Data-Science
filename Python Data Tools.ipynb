{
 "metadata": {
  "name": "",
  "signature": "sha256:ce3ecbf7a987688cd89465de6cd9dbdc1759bca2b264b61453f84a19a8f16da6"
 },
 "nbformat": 3,
 "nbformat_minor": 0,
 "worksheets": [
  {
   "cells": [
    {
     "cell_type": "markdown",
     "metadata": {},
     "source": [
      "Python Data Tools\n",
      "===\n",
      "There are a number of excellent libraries available to python for working with data. Almost all of these tools come with the Anaconda distribution of Python. To use a library you'll need to first `import` it. "
     ]
    },
    {
     "cell_type": "code",
     "collapsed": false,
     "input": [
      "import numpy"
     ],
     "language": "python",
     "metadata": {},
     "outputs": [],
     "prompt_number": 2
    },
    {
     "cell_type": "markdown",
     "metadata": {},
     "source": [
      "where pandas is the name of the library we've just imported. Each time we use a class or function from an imported library, we'll need to specify which libray it comes from. For instance, to use the `rand` method from numpy's `random` module:"
     ]
    },
    {
     "cell_type": "code",
     "collapsed": false,
     "input": [
      "numpy.random.rand(4)"
     ],
     "language": "python",
     "metadata": {},
     "outputs": [
      {
       "metadata": {},
       "output_type": "pyout",
       "prompt_number": 3,
       "text": [
        "array([ 0.79438082,  0.35463135,  0.94586903,  0.69183757])"
       ]
      }
     ],
     "prompt_number": 3
    },
    {
     "cell_type": "markdown",
     "metadata": {},
     "source": [
      "Because we reference the library name so often, it's common to create an alias for the library name. We can specify the alias as part of the import statement:"
     ]
    },
    {
     "cell_type": "code",
     "collapsed": false,
     "input": [
      "import numpy as np"
     ],
     "language": "python",
     "metadata": {},
     "outputs": [],
     "prompt_number": 4
    },
    {
     "cell_type": "markdown",
     "metadata": {},
     "source": [
      "Now, we can reference the numpy library like:"
     ]
    },
    {
     "cell_type": "code",
     "collapsed": false,
     "input": [
      "np.random.rand(4)"
     ],
     "language": "python",
     "metadata": {},
     "outputs": [
      {
       "metadata": {},
       "output_type": "pyout",
       "prompt_number": 5,
       "text": [
        "array([ 0.42882996,  0.86217252,  0.3130542 ,  0.8365839 ])"
       ]
      }
     ],
     "prompt_number": 5
    },
    {
     "cell_type": "markdown",
     "metadata": {},
     "source": [
      "Numpy\n",
      "---\n",
      "The numpy library provides a set of tools for creating, manipulating, and operating on multi-dimensional arrays. Many of the operations available from the numpy library could also be performed using python's built in math library and for loops. However, numpy makes these operations easier to perform and executes them *much* more efficiently.\n",
      "\n",
      "**Exercise:** Below we use numpy to create a sine wave from a 1,000,000 element array. Perform the same operation with a list, a for-loop, and the math.sin method. A timer is provided so you can record the execution time and compare the results"
     ]
    },
    {
     "cell_type": "code",
     "collapsed": false,
     "input": [
      "import time\n",
      "import numpy as np\n",
      "import math\n",
      "\n",
      "x = np.arange(0,10,0.00001)\n",
      "print(\"x is a %d element array\"%len(x))\n",
      "\n",
      "t0 = time.time()\n",
      "# put your code here\n",
      "print(\"this operation took %f seconds\"% (time.time()-t0))\n",
      "\n",
      "t0 = time.time()\n",
      "# put your code here\n",
      "print(\"this operation took %f seconds\"% (time.time()-t0))"
     ],
     "language": "python",
     "metadata": {},
     "outputs": [
      {
       "output_type": "stream",
       "stream": "stdout",
       "text": [
        "x is a 1000000 element array\n",
        "this operation took 0.000075 seconds\n",
        "this operation took 0.000049 seconds\n"
       ]
      }
     ],
     "prompt_number": 2
    },
    {
     "cell_type": "markdown",
     "metadata": {},
     "source": [
      "In the exercise above you should have seen that with 1 million element array, numpy is around 10 times faster than a for-loop (try the same exercise with arrays of different sizes to see how your results vary).\n",
      "\n",
      "Numpy is also great for working with multi-dimensional arrays and matrices. Let's look at an example in which we have a 12 element 1-dimensional array that we'd like to convert into a 4x3 2-dimensional array."
     ]
    },
    {
     "cell_type": "code",
     "collapsed": false,
     "input": [
      "import numpy as np\n",
      "a = np.arange(1,13)\n",
      "a"
     ],
     "language": "python",
     "metadata": {},
     "outputs": [
      {
       "metadata": {},
       "output_type": "pyout",
       "prompt_number": 51,
       "text": [
        "array([ 1,  2,  3,  4,  5,  6,  7,  8,  9, 10, 11, 12])"
       ]
      }
     ],
     "prompt_number": 51
    },
    {
     "cell_type": "code",
     "collapsed": false,
     "input": [
      "a = a.reshape(4,3)\n",
      "a"
     ],
     "language": "python",
     "metadata": {},
     "outputs": [
      {
       "metadata": {},
       "output_type": "pyout",
       "prompt_number": 52,
       "text": [
        "array([[ 1,  2,  3],\n",
        "       [ 4,  5,  6],\n",
        "       [ 7,  8,  9],\n",
        "       [10, 11, 12]])"
       ]
      }
     ],
     "prompt_number": 52
    },
    {
     "cell_type": "markdown",
     "metadata": {},
     "source": [
      "Numpy also provides a way to select elements and slices of an array by their indices:"
     ]
    },
    {
     "cell_type": "code",
     "collapsed": false,
     "input": [
      "a[0,1]     # gets the element in the first row and second column"
     ],
     "language": "python",
     "metadata": {},
     "outputs": [
      {
       "metadata": {},
       "output_type": "pyout",
       "prompt_number": 53,
       "text": [
        "2"
       ]
      }
     ],
     "prompt_number": 53
    },
    {
     "cell_type": "code",
     "collapsed": false,
     "input": [
      "a[:,1]     # gets the array of elements in the second column"
     ],
     "language": "python",
     "metadata": {},
     "outputs": [
      {
       "metadata": {},
       "output_type": "pyout",
       "prompt_number": 54,
       "text": [
        "array([ 2,  5,  8, 11])"
       ]
      }
     ],
     "prompt_number": 54
    },
    {
     "cell_type": "code",
     "collapsed": false,
     "input": [
      "a[0:2,0:2] # gets the top left 2x2 square of elements"
     ],
     "language": "python",
     "metadata": {},
     "outputs": [
      {
       "metadata": {},
       "output_type": "pyout",
       "prompt_number": 55,
       "text": [
        "array([[1, 2],\n",
        "       [4, 5]])"
       ]
      }
     ],
     "prompt_number": 55
    },
    {
     "cell_type": "markdown",
     "metadata": {},
     "source": [
      "Numpy also allows us to perform boolean operations on an array *and* to use an array of boolean values to select certain elements from an array. Below we use a boolean operation to determine if each element in the array is even (by checking whether it is divisible by 2). Then we use numpy's boolean indexing feature to set all even elements to zero."
     ]
    },
    {
     "cell_type": "code",
     "collapsed": false,
     "input": [
      "a%2==0  # modulus 2 is 0 for odd numbers"
     ],
     "language": "python",
     "metadata": {},
     "outputs": [
      {
       "metadata": {},
       "output_type": "pyout",
       "prompt_number": 56,
       "text": [
        "array([[False,  True, False],\n",
        "       [ True, False,  True],\n",
        "       [False,  True, False],\n",
        "       [ True, False,  True]], dtype=bool)"
       ]
      }
     ],
     "prompt_number": 56
    },
    {
     "cell_type": "code",
     "collapsed": false,
     "input": [
      "a[a%2==0] = 0  # set all even numbers to 0\n",
      "a"
     ],
     "language": "python",
     "metadata": {},
     "outputs": [
      {
       "metadata": {},
       "output_type": "pyout",
       "prompt_number": 57,
       "text": [
        "array([[ 1,  0,  3],\n",
        "       [ 0,  5,  0],\n",
        "       [ 7,  0,  9],\n",
        "       [ 0, 11,  0]])"
       ]
      }
     ],
     "prompt_number": 57
    },
    {
     "cell_type": "markdown",
     "metadata": {},
     "source": [
      "We won't cover all of what numpy can do in this module (including it's very useful matrix operations), but you can get a more thorough introduction here: http://wiki.scipy.org/Tentative_NumPy_Tutorial"
     ]
    },
    {
     "cell_type": "markdown",
     "metadata": {},
     "source": [
      "Pandas\n",
      "---\n",
      "The numpy library treats a 2-dimensional array as an array of arrays. This has the advantage of being efficient but the disadvantage being somewhat cumbersome to work with. In most cases a 2-dimensional array is a collection of data points where each row represents an observation and each column represents a different feature that's been observed.\n",
      "\n",
      "The pandas library stores data in a way that is more congruent with the observation/feature (or row/column) way of thinking about a data set. I provides: \n",
      "1. a *high level interface* to numpy arrays that much more intuitive and easier to work with and\n",
      "2. a *set of tools* that make every step in the data science pipeline easier to perform\n",
      "\n",
      "Where the base structure of numpy is an array, the base structure of pandas is a dataframe. The two object are very similar, but the pandas dataframe has the advantages of:\n",
      "1. allowing different data types in a single dataframe and\n",
      "2. providing labels for both rows and columns\n",
      "\n",
      "The labeling is particularly useful for columns, as each columns typically represents a different feature.  In the example below we take a weeks worth of daily stock data (open and close prices), initially putting it into a numpy array, and then into a pandas dataframe."
     ]
    },
    {
     "cell_type": "code",
     "collapsed": false,
     "input": [
      "import pandas as pd\n",
      "data_np = np.array(  [[ 563.3,  553.2],\n",
      "                   [ 556.6,  549.1],\n",
      "                   [ 554.8,  548.9],\n",
      "                   [ 556.8,  542.7],\n",
      "                   [ 555.3,  544.5],\n",
      "                   [ 552.2,  546.4],\n",
      "                   [ 558.2,  545.5]])\n",
      "columns = [[\"high\",\"low\"]]\n",
      "dates = np.array(['3/10', '3/11', '3/12', '3/13', '3/16','3/17', '3/18'])\n",
      "data_np"
     ],
     "language": "python",
     "metadata": {},
     "outputs": [
      {
       "metadata": {},
       "output_type": "pyout",
       "prompt_number": 89,
       "text": [
        "array([[ 563.3,  553.2],\n",
        "       [ 556.6,  549.1],\n",
        "       [ 554.8,  548.9],\n",
        "       [ 556.8,  542.7],\n",
        "       [ 555.3,  544.5],\n",
        "       [ 552.2,  546.4],\n",
        "       [ 558.2,  545.5]])"
       ]
      }
     ],
     "prompt_number": 89
    },
    {
     "cell_type": "code",
     "collapsed": false,
     "input": [
      "data_pd = pd.DataFrame(data_np,columns=columns,index=dates)\n",
      "data_pd"
     ],
     "language": "python",
     "metadata": {},
     "outputs": [
      {
       "html": [
        "<div style=\"max-height:1000px;max-width:1500px;overflow:auto;\">\n",
        "<table border=\"1\" class=\"dataframe\">\n",
        "  <thead>\n",
        "    <tr style=\"text-align: right;\">\n",
        "      <th></th>\n",
        "      <th>high</th>\n",
        "      <th>low</th>\n",
        "    </tr>\n",
        "  </thead>\n",
        "  <tbody>\n",
        "    <tr>\n",
        "      <th>3/10</th>\n",
        "      <td>563.3</td>\n",
        "      <td>553.2</td>\n",
        "    </tr>\n",
        "    <tr>\n",
        "      <th>3/11</th>\n",
        "      <td>556.6</td>\n",
        "      <td>549.1</td>\n",
        "    </tr>\n",
        "    <tr>\n",
        "      <th>3/12</th>\n",
        "      <td>554.8</td>\n",
        "      <td>548.9</td>\n",
        "    </tr>\n",
        "    <tr>\n",
        "      <th>3/13</th>\n",
        "      <td>556.8</td>\n",
        "      <td>542.7</td>\n",
        "    </tr>\n",
        "    <tr>\n",
        "      <th>3/16</th>\n",
        "      <td>555.3</td>\n",
        "      <td>544.5</td>\n",
        "    </tr>\n",
        "    <tr>\n",
        "      <th>3/17</th>\n",
        "      <td>552.2</td>\n",
        "      <td>546.4</td>\n",
        "    </tr>\n",
        "    <tr>\n",
        "      <th>3/18</th>\n",
        "      <td>558.2</td>\n",
        "      <td>545.5</td>\n",
        "    </tr>\n",
        "  </tbody>\n",
        "</table>\n",
        "</div>"
       ],
       "metadata": {},
       "output_type": "pyout",
       "prompt_number": 90,
       "text": [
        "       high    low\n",
        "3/10  563.3  553.2\n",
        "3/11  556.6  549.1\n",
        "3/12  554.8  548.9\n",
        "3/13  556.8  542.7\n",
        "3/16  555.3  544.5\n",
        "3/17  552.2  546.4\n",
        "3/18  558.2  545.5"
       ]
      }
     ],
     "prompt_number": 90
    },
    {
     "cell_type": "markdown",
     "metadata": {},
     "source": [
      "Notice that we need three different variables to fully describe the data with numpy and only one with pandas. Furthermore, pandas comes with a large set of tools for operating on dataframes. Let's say we wanted to sort our data by the low price:"
     ]
    },
    {
     "cell_type": "code",
     "collapsed": false,
     "input": [
      "data_pd.sort(\"low\")"
     ],
     "language": "python",
     "metadata": {},
     "outputs": [
      {
       "html": [
        "<div style=\"max-height:1000px;max-width:1500px;overflow:auto;\">\n",
        "<table border=\"1\" class=\"dataframe\">\n",
        "  <thead>\n",
        "    <tr style=\"text-align: right;\">\n",
        "      <th></th>\n",
        "      <th>high</th>\n",
        "      <th>low</th>\n",
        "    </tr>\n",
        "  </thead>\n",
        "  <tbody>\n",
        "    <tr>\n",
        "      <th>3/13</th>\n",
        "      <td>556.8</td>\n",
        "      <td>542.7</td>\n",
        "    </tr>\n",
        "    <tr>\n",
        "      <th>3/16</th>\n",
        "      <td>555.3</td>\n",
        "      <td>544.5</td>\n",
        "    </tr>\n",
        "    <tr>\n",
        "      <th>3/18</th>\n",
        "      <td>558.2</td>\n",
        "      <td>545.5</td>\n",
        "    </tr>\n",
        "    <tr>\n",
        "      <th>3/17</th>\n",
        "      <td>552.2</td>\n",
        "      <td>546.4</td>\n",
        "    </tr>\n",
        "    <tr>\n",
        "      <th>3/12</th>\n",
        "      <td>554.8</td>\n",
        "      <td>548.9</td>\n",
        "    </tr>\n",
        "    <tr>\n",
        "      <th>3/11</th>\n",
        "      <td>556.6</td>\n",
        "      <td>549.1</td>\n",
        "    </tr>\n",
        "    <tr>\n",
        "      <th>3/10</th>\n",
        "      <td>563.3</td>\n",
        "      <td>553.2</td>\n",
        "    </tr>\n",
        "  </tbody>\n",
        "</table>\n",
        "</div>"
       ],
       "metadata": {},
       "output_type": "pyout",
       "prompt_number": 91,
       "text": [
        "       high    low\n",
        "3/13  556.8  542.7\n",
        "3/16  555.3  544.5\n",
        "3/18  558.2  545.5\n",
        "3/17  552.2  546.4\n",
        "3/12  554.8  548.9\n",
        "3/11  556.6  549.1\n",
        "3/10  563.3  553.2"
       ]
      }
     ],
     "prompt_number": 91
    },
    {
     "cell_type": "markdown",
     "metadata": {},
     "source": [
      "Or suppose we have another dataset of open and close prices that we'd like to join with our existing data set:"
     ]
    },
    {
     "cell_type": "code",
     "collapsed": false,
     "input": [
      "df2 = pd.DataFrame([[ 553.6,  549.6],[ 551.9,  553.9 ],[ 551.9,  545.8],[ 549.4,  552.9],[ 550.1,  549.3],[ 550.9,  557.9],[ 557.8,  556.4],[ 560.1,  558.8]], \n",
      "        columns=[\"open\",\"close\"],\n",
      "        index=['3/11', '3/12', '3/13', '3/16','3/17', '3/18', '3/19', '3/20'])\n",
      "df2"
     ],
     "language": "python",
     "metadata": {},
     "outputs": [
      {
       "html": [
        "<div style=\"max-height:1000px;max-width:1500px;overflow:auto;\">\n",
        "<table border=\"1\" class=\"dataframe\">\n",
        "  <thead>\n",
        "    <tr style=\"text-align: right;\">\n",
        "      <th></th>\n",
        "      <th>open</th>\n",
        "      <th>close</th>\n",
        "    </tr>\n",
        "  </thead>\n",
        "  <tbody>\n",
        "    <tr>\n",
        "      <th>3/11</th>\n",
        "      <td>553.6</td>\n",
        "      <td>549.6</td>\n",
        "    </tr>\n",
        "    <tr>\n",
        "      <th>3/12</th>\n",
        "      <td>551.9</td>\n",
        "      <td>553.9</td>\n",
        "    </tr>\n",
        "    <tr>\n",
        "      <th>3/13</th>\n",
        "      <td>551.9</td>\n",
        "      <td>545.8</td>\n",
        "    </tr>\n",
        "    <tr>\n",
        "      <th>3/16</th>\n",
        "      <td>549.4</td>\n",
        "      <td>552.9</td>\n",
        "    </tr>\n",
        "    <tr>\n",
        "      <th>3/17</th>\n",
        "      <td>550.1</td>\n",
        "      <td>549.3</td>\n",
        "    </tr>\n",
        "    <tr>\n",
        "      <th>3/18</th>\n",
        "      <td>550.9</td>\n",
        "      <td>557.9</td>\n",
        "    </tr>\n",
        "    <tr>\n",
        "      <th>3/19</th>\n",
        "      <td>557.8</td>\n",
        "      <td>556.4</td>\n",
        "    </tr>\n",
        "    <tr>\n",
        "      <th>3/20</th>\n",
        "      <td>560.1</td>\n",
        "      <td>558.8</td>\n",
        "    </tr>\n",
        "  </tbody>\n",
        "</table>\n",
        "</div>"
       ],
       "metadata": {},
       "output_type": "pyout",
       "prompt_number": 92,
       "text": [
        "       open  close\n",
        "3/11  553.6  549.6\n",
        "3/12  551.9  553.9\n",
        "3/13  551.9  545.8\n",
        "3/16  549.4  552.9\n",
        "3/17  550.1  549.3\n",
        "3/18  550.9  557.9\n",
        "3/19  557.8  556.4\n",
        "3/20  560.1  558.8"
       ]
      }
     ],
     "prompt_number": 92
    },
    {
     "cell_type": "markdown",
     "metadata": {},
     "source": [
      "Notice that the dates for data_pd and df2 don't quite match. This might be a significant annoyance if we had to write a custom function to join these two dataframes, but fortunately we don't because pandas has a tool to do it for us:"
     ]
    },
    {
     "cell_type": "code",
     "collapsed": false,
     "input": [
      "df_joined = data_pd.join(df2,how='outer')\n",
      "df_joined"
     ],
     "language": "python",
     "metadata": {},
     "outputs": [
      {
       "html": [
        "<div style=\"max-height:1000px;max-width:1500px;overflow:auto;\">\n",
        "<table border=\"1\" class=\"dataframe\">\n",
        "  <thead>\n",
        "    <tr style=\"text-align: right;\">\n",
        "      <th></th>\n",
        "      <th>high</th>\n",
        "      <th>low</th>\n",
        "      <th>open</th>\n",
        "      <th>close</th>\n",
        "    </tr>\n",
        "  </thead>\n",
        "  <tbody>\n",
        "    <tr>\n",
        "      <th>3/10</th>\n",
        "      <td>563.3</td>\n",
        "      <td>553.2</td>\n",
        "      <td>NaN</td>\n",
        "      <td>NaN</td>\n",
        "    </tr>\n",
        "    <tr>\n",
        "      <th>3/11</th>\n",
        "      <td>556.6</td>\n",
        "      <td>549.1</td>\n",
        "      <td>553.6</td>\n",
        "      <td>549.6</td>\n",
        "    </tr>\n",
        "    <tr>\n",
        "      <th>3/12</th>\n",
        "      <td>554.8</td>\n",
        "      <td>548.9</td>\n",
        "      <td>551.9</td>\n",
        "      <td>553.9</td>\n",
        "    </tr>\n",
        "    <tr>\n",
        "      <th>3/13</th>\n",
        "      <td>556.8</td>\n",
        "      <td>542.7</td>\n",
        "      <td>551.9</td>\n",
        "      <td>545.8</td>\n",
        "    </tr>\n",
        "    <tr>\n",
        "      <th>3/16</th>\n",
        "      <td>555.3</td>\n",
        "      <td>544.5</td>\n",
        "      <td>549.4</td>\n",
        "      <td>552.9</td>\n",
        "    </tr>\n",
        "    <tr>\n",
        "      <th>3/17</th>\n",
        "      <td>552.2</td>\n",
        "      <td>546.4</td>\n",
        "      <td>550.1</td>\n",
        "      <td>549.3</td>\n",
        "    </tr>\n",
        "    <tr>\n",
        "      <th>3/18</th>\n",
        "      <td>558.2</td>\n",
        "      <td>545.5</td>\n",
        "      <td>550.9</td>\n",
        "      <td>557.9</td>\n",
        "    </tr>\n",
        "    <tr>\n",
        "      <th>3/19</th>\n",
        "      <td>NaN</td>\n",
        "      <td>NaN</td>\n",
        "      <td>557.8</td>\n",
        "      <td>556.4</td>\n",
        "    </tr>\n",
        "    <tr>\n",
        "      <th>3/20</th>\n",
        "      <td>NaN</td>\n",
        "      <td>NaN</td>\n",
        "      <td>560.1</td>\n",
        "      <td>558.8</td>\n",
        "    </tr>\n",
        "  </tbody>\n",
        "</table>\n",
        "</div>"
       ],
       "metadata": {},
       "output_type": "pyout",
       "prompt_number": 93,
       "text": [
        "       high    low   open  close\n",
        "3/10  563.3  553.2    NaN    NaN\n",
        "3/11  556.6  549.1  553.6  549.6\n",
        "3/12  554.8  548.9  551.9  553.9\n",
        "3/13  556.8  542.7  551.9  545.8\n",
        "3/16  555.3  544.5  549.4  552.9\n",
        "3/17  552.2  546.4  550.1  549.3\n",
        "3/18  558.2  545.5  550.9  557.9\n",
        "3/19    NaN    NaN  557.8  556.4\n",
        "3/20    NaN    NaN  560.1  558.8"
       ]
      }
     ],
     "prompt_number": 93
    },
    {
     "cell_type": "markdown",
     "metadata": {},
     "source": [
      "Pandas even has a tool for plotting your results in an ipython notebook:"
     ]
    },
    {
     "cell_type": "code",
     "collapsed": false,
     "input": [
      "df_joined.plot()"
     ],
     "language": "python",
     "metadata": {},
     "outputs": [
      {
       "metadata": {},
       "output_type": "pyout",
       "prompt_number": 94,
       "text": [
        "<matplotlib.axes._subplots.AxesSubplot at 0x1083cb110>"
       ]
      },
      {
       "metadata": {},
       "output_type": "display_data",
       "png": "[encoded data removed]",
       "text": [
        "<matplotlib.figure.Figure at 0x108318a90>"
       ]
      }
     ],
     "prompt_number": 94
    },
    {
     "cell_type": "markdown",
     "metadata": {},
     "source": [
      "Selecting data\n",
      "--\n",
      "**The .ix operator**\n",
      "\n",
      "You can also slice a dataframe in the same way you slice a numpy array:"
     ]
    },
    {
     "cell_type": "code",
     "collapsed": false,
     "input": [
      "df_joined.ix[1:4,1:3]"
     ],
     "language": "python",
     "metadata": {},
     "outputs": [
      {
       "html": [
        "<div style=\"max-height:1000px;max-width:1500px;overflow:auto;\">\n",
        "<table border=\"1\" class=\"dataframe\">\n",
        "  <thead>\n",
        "    <tr style=\"text-align: right;\">\n",
        "      <th></th>\n",
        "      <th>low</th>\n",
        "      <th>open</th>\n",
        "    </tr>\n",
        "  </thead>\n",
        "  <tbody>\n",
        "    <tr>\n",
        "      <th>3/11</th>\n",
        "      <td>549.1</td>\n",
        "      <td>553.6</td>\n",
        "    </tr>\n",
        "    <tr>\n",
        "      <th>3/12</th>\n",
        "      <td>548.9</td>\n",
        "      <td>551.9</td>\n",
        "    </tr>\n",
        "    <tr>\n",
        "      <th>3/13</th>\n",
        "      <td>542.7</td>\n",
        "      <td>551.9</td>\n",
        "    </tr>\n",
        "  </tbody>\n",
        "</table>\n",
        "</div>"
       ],
       "metadata": {},
       "output_type": "pyout",
       "prompt_number": 95,
       "text": [
        "        low   open\n",
        "3/11  549.1  553.6\n",
        "3/12  548.9  551.9\n",
        "3/13  542.7  551.9"
       ]
      }
     ],
     "prompt_number": 95
    },
    {
     "cell_type": "markdown",
     "metadata": {},
     "source": [
      "The `.ix` operator works just like selection on numpy arrays. You can select a subset of both rows and columns using the slice operator for both (as done above), or select a single row or column (shown below)"
     ]
    },
    {
     "cell_type": "code",
     "collapsed": false,
     "input": [
      "df_joined.ix[1,:]  # not specifying the start or end index, default to the first and last index"
     ],
     "language": "python",
     "metadata": {},
     "outputs": [
      {
       "metadata": {},
       "output_type": "pyout",
       "prompt_number": 96,
       "text": [
        "high     556.6\n",
        "low      549.1\n",
        "open     553.6\n",
        "close    549.6\n",
        "Name: 3/11, dtype: float64"
       ]
      }
     ],
     "prompt_number": 96
    },
    {
     "cell_type": "code",
     "collapsed": false,
     "input": [
      "df_joined.ix[1:3,1]"
     ],
     "language": "python",
     "metadata": {},
     "outputs": [
      {
       "metadata": {},
       "output_type": "pyout",
       "prompt_number": 97,
       "text": [
        "3/11    549.1\n",
        "3/12    548.9\n",
        "Name: low, dtype: float64"
       ]
      }
     ],
     "prompt_number": 97
    },
    {
     "cell_type": "markdown",
     "metadata": {},
     "source": [
      "When you select a single row or column, you get back a pandas Series object, which is a labeled 1-dimensional array similar to a python dictionary."
     ]
    },
    {
     "cell_type": "code",
     "collapsed": false,
     "input": [
      "df_joined_one_row = df_joined.ix[0,:]  # df_joined_one_row is a Series object, all columns, but only the first row\n",
      "df_joined_one_row[\"high\"]  # we access a particular value just as if it were a dictionary"
     ],
     "language": "python",
     "metadata": {},
     "outputs": [
      {
       "metadata": {},
       "output_type": "pyout",
       "prompt_number": 98,
       "text": [
        "563.29999999999995"
       ]
      }
     ],
     "prompt_number": 98
    },
    {
     "cell_type": "markdown",
     "metadata": {},
     "source": [
      "**The .loc operator**\n",
      "\n",
      "The more common way to select data is by label using the `.loc` operator. The `.loc` operator can take \n",
      "- a single label:"
     ]
    },
    {
     "cell_type": "code",
     "collapsed": false,
     "input": [
      "df_joined.loc['3/10','low']  # select the \"low\" value from 3/10"
     ],
     "language": "python",
     "metadata": {},
     "outputs": [
      {
       "metadata": {},
       "output_type": "pyout",
       "prompt_number": 99,
       "text": [
        "553.20000000000005"
       ]
      }
     ],
     "prompt_number": 99
    },
    {
     "cell_type": "markdown",
     "metadata": {},
     "source": [
      "- a list or array of labels"
     ]
    },
    {
     "cell_type": "code",
     "collapsed": false,
     "input": [
      "df_joined.loc['3/11',['low','high',\"close\"]]  # select the \"low\", \"high\", and \"close\" values from 3/11"
     ],
     "language": "python",
     "metadata": {},
     "outputs": [
      {
       "metadata": {},
       "output_type": "pyout",
       "prompt_number": 100,
       "text": [
        "low      549.1\n",
        "high     556.6\n",
        "close    549.6\n",
        "Name: 3/11, dtype: float64"
       ]
      }
     ],
     "prompt_number": 100
    },
    {
     "cell_type": "markdown",
     "metadata": {},
     "source": [
      "- a label slice object"
     ]
    },
    {
     "cell_type": "code",
     "collapsed": false,
     "input": [
      "df_joined.loc['3/10':'3/13','low']"
     ],
     "language": "python",
     "metadata": {},
     "outputs": [
      {
       "metadata": {},
       "output_type": "pyout",
       "prompt_number": 101,
       "text": [
        "3/10    553.2\n",
        "3/11    549.1\n",
        "3/12    548.9\n",
        "3/13    542.7\n",
        "Name: low, dtype: float64"
       ]
      }
     ],
     "prompt_number": 101
    },
    {
     "cell_type": "markdown",
     "metadata": {},
     "source": [
      "- a boolean array or boolean series"
     ]
    },
    {
     "cell_type": "code",
     "collapsed": false,
     "input": [
      "bool_array = df_joined.loc[:,\"high\"]<556  # returns a boolean series which is True where the high value is less than 556 and False otherwise\n",
      "df_joined.loc[bool_array,:]  # uses the boolean series above to select the \"True\" rows"
     ],
     "language": "python",
     "metadata": {},
     "outputs": [
      {
       "html": [
        "<div style=\"max-height:1000px;max-width:1500px;overflow:auto;\">\n",
        "<table border=\"1\" class=\"dataframe\">\n",
        "  <thead>\n",
        "    <tr style=\"text-align: right;\">\n",
        "      <th></th>\n",
        "      <th>high</th>\n",
        "      <th>low</th>\n",
        "      <th>open</th>\n",
        "      <th>close</th>\n",
        "    </tr>\n",
        "  </thead>\n",
        "  <tbody>\n",
        "    <tr>\n",
        "      <th>3/12</th>\n",
        "      <td>554.8</td>\n",
        "      <td>548.9</td>\n",
        "      <td>551.9</td>\n",
        "      <td>553.9</td>\n",
        "    </tr>\n",
        "    <tr>\n",
        "      <th>3/16</th>\n",
        "      <td>555.3</td>\n",
        "      <td>544.5</td>\n",
        "      <td>549.4</td>\n",
        "      <td>552.9</td>\n",
        "    </tr>\n",
        "    <tr>\n",
        "      <th>3/17</th>\n",
        "      <td>552.2</td>\n",
        "      <td>546.4</td>\n",
        "      <td>550.1</td>\n",
        "      <td>549.3</td>\n",
        "    </tr>\n",
        "  </tbody>\n",
        "</table>\n",
        "</div>"
       ],
       "metadata": {},
       "output_type": "pyout",
       "prompt_number": 102,
       "text": [
        "       high    low   open  close\n",
        "3/12  554.8  548.9  551.9  553.9\n",
        "3/16  555.3  544.5  549.4  552.9\n",
        "3/17  552.2  546.4  550.1  549.3"
       ]
      }
     ],
     "prompt_number": 102
    },
    {
     "cell_type": "markdown",
     "metadata": {},
     "source": [
      "- or any combination of the above"
     ]
    },
    {
     "cell_type": "code",
     "collapsed": false,
     "input": [
      "df_joined.loc['3/10':'3/13',['low','high']]"
     ],
     "language": "python",
     "metadata": {},
     "outputs": [
      {
       "html": [
        "<div style=\"max-height:1000px;max-width:1500px;overflow:auto;\">\n",
        "<table border=\"1\" class=\"dataframe\">\n",
        "  <thead>\n",
        "    <tr style=\"text-align: right;\">\n",
        "      <th></th>\n",
        "      <th>low</th>\n",
        "      <th>high</th>\n",
        "    </tr>\n",
        "  </thead>\n",
        "  <tbody>\n",
        "    <tr>\n",
        "      <th>3/10</th>\n",
        "      <td>553.2</td>\n",
        "      <td>563.3</td>\n",
        "    </tr>\n",
        "    <tr>\n",
        "      <th>3/11</th>\n",
        "      <td>549.1</td>\n",
        "      <td>556.6</td>\n",
        "    </tr>\n",
        "    <tr>\n",
        "      <th>3/12</th>\n",
        "      <td>548.9</td>\n",
        "      <td>554.8</td>\n",
        "    </tr>\n",
        "    <tr>\n",
        "      <th>3/13</th>\n",
        "      <td>542.7</td>\n",
        "      <td>556.8</td>\n",
        "    </tr>\n",
        "  </tbody>\n",
        "</table>\n",
        "</div>"
       ],
       "metadata": {},
       "output_type": "pyout",
       "prompt_number": 103,
       "text": [
        "        low   high\n",
        "3/10  553.2  563.3\n",
        "3/11  549.1  556.6\n",
        "3/12  548.9  554.8\n",
        "3/13  542.7  556.8"
       ]
      }
     ],
     "prompt_number": 103
    },
    {
     "cell_type": "markdown",
     "metadata": {},
     "source": [
      "Pandas has a few more selection operators, including a `.query` operator that allows you to [select data with sql-like syntax](http://pandas.pydata.org/pandas-docs/stable/indexing.html#the-query-method-experimental). I won't cover all of those operators in this module, but you can read more [here](http://pandas.pydata.org/pandas-docs/stable/indexing.html)."
     ]
    },
    {
     "cell_type": "markdown",
     "metadata": {},
     "source": [
      "Creating a dataframe\n",
      "---\n",
      "We've seen above that we can create a dataframe from a numpy array or from a list of lists. In both cases we have to also specify the column labels and the index labels. Neither labels are *required*, and if we don't specify them pandas defaults to integer index labels"
     ]
    },
    {
     "cell_type": "code",
     "collapsed": false,
     "input": [
      "pd.DataFrame(data_np)"
     ],
     "language": "python",
     "metadata": {},
     "outputs": [
      {
       "html": [
        "<div style=\"max-height:1000px;max-width:1500px;overflow:auto;\">\n",
        "<table border=\"1\" class=\"dataframe\">\n",
        "  <thead>\n",
        "    <tr style=\"text-align: right;\">\n",
        "      <th></th>\n",
        "      <th>0</th>\n",
        "      <th>1</th>\n",
        "    </tr>\n",
        "  </thead>\n",
        "  <tbody>\n",
        "    <tr>\n",
        "      <th>0</th>\n",
        "      <td>563.3</td>\n",
        "      <td>553.2</td>\n",
        "    </tr>\n",
        "    <tr>\n",
        "      <th>1</th>\n",
        "      <td>556.6</td>\n",
        "      <td>549.1</td>\n",
        "    </tr>\n",
        "    <tr>\n",
        "      <th>2</th>\n",
        "      <td>554.8</td>\n",
        "      <td>548.9</td>\n",
        "    </tr>\n",
        "    <tr>\n",
        "      <th>3</th>\n",
        "      <td>556.8</td>\n",
        "      <td>542.7</td>\n",
        "    </tr>\n",
        "    <tr>\n",
        "      <th>4</th>\n",
        "      <td>555.3</td>\n",
        "      <td>544.5</td>\n",
        "    </tr>\n",
        "    <tr>\n",
        "      <th>5</th>\n",
        "      <td>552.2</td>\n",
        "      <td>546.4</td>\n",
        "    </tr>\n",
        "    <tr>\n",
        "      <th>6</th>\n",
        "      <td>558.2</td>\n",
        "      <td>545.5</td>\n",
        "    </tr>\n",
        "  </tbody>\n",
        "</table>\n",
        "</div>"
       ],
       "metadata": {},
       "output_type": "pyout",
       "prompt_number": 104,
       "text": [
        "       0      1\n",
        "0  563.3  553.2\n",
        "1  556.6  549.1\n",
        "2  554.8  548.9\n",
        "3  556.8  542.7\n",
        "4  555.3  544.5\n",
        "5  552.2  546.4\n",
        "6  558.2  545.5"
       ]
      }
     ],
     "prompt_number": 104
    },
    {
     "cell_type": "markdown",
     "metadata": {},
     "source": [
      "Integer index labels are oftentimes fine for rows, but you'll almost always want labels for your columns. You can also create a dataframe from a dictionary where the key is the desired column name and the value is a list of values for that column:"
     ]
    },
    {
     "cell_type": "code",
     "collapsed": false,
     "input": [
      "data_dict = {'low': [553,549,548,542,544,546,545],\n",
      "             'high':[563,556,554,556,555,552,558]}\n",
      "pd.DataFrame(data_dict)"
     ],
     "language": "python",
     "metadata": {},
     "outputs": [
      {
       "html": [
        "<div style=\"max-height:1000px;max-width:1500px;overflow:auto;\">\n",
        "<table border=\"1\" class=\"dataframe\">\n",
        "  <thead>\n",
        "    <tr style=\"text-align: right;\">\n",
        "      <th></th>\n",
        "      <th>high</th>\n",
        "      <th>low</th>\n",
        "    </tr>\n",
        "  </thead>\n",
        "  <tbody>\n",
        "    <tr>\n",
        "      <th>0</th>\n",
        "      <td>563</td>\n",
        "      <td>553</td>\n",
        "    </tr>\n",
        "    <tr>\n",
        "      <th>1</th>\n",
        "      <td>556</td>\n",
        "      <td>549</td>\n",
        "    </tr>\n",
        "    <tr>\n",
        "      <th>2</th>\n",
        "      <td>554</td>\n",
        "      <td>548</td>\n",
        "    </tr>\n",
        "    <tr>\n",
        "      <th>3</th>\n",
        "      <td>556</td>\n",
        "      <td>542</td>\n",
        "    </tr>\n",
        "    <tr>\n",
        "      <th>4</th>\n",
        "      <td>555</td>\n",
        "      <td>544</td>\n",
        "    </tr>\n",
        "    <tr>\n",
        "      <th>5</th>\n",
        "      <td>552</td>\n",
        "      <td>546</td>\n",
        "    </tr>\n",
        "    <tr>\n",
        "      <th>6</th>\n",
        "      <td>558</td>\n",
        "      <td>545</td>\n",
        "    </tr>\n",
        "  </tbody>\n",
        "</table>\n",
        "</div>"
       ],
       "metadata": {},
       "output_type": "pyout",
       "prompt_number": 105,
       "text": [
        "   high  low\n",
        "0   563  553\n",
        "1   556  549\n",
        "2   554  548\n",
        "3   556  542\n",
        "4   555  544\n",
        "5   552  546\n",
        "6   558  545"
       ]
      }
     ],
     "prompt_number": 105
    },
    {
     "cell_type": "code",
     "collapsed": false,
     "input": [],
     "language": "python",
     "metadata": {},
     "outputs": []
    },
    {
     "cell_type": "code",
     "collapsed": false,
     "input": [],
     "language": "python",
     "metadata": {},
     "outputs": []
    },
    {
     "cell_type": "code",
     "collapsed": false,
     "input": [
      "ticker = \"GOOG\"\n",
      "api_url = 'https://chartapi.finance.yahoo.com/instrument/1.0/{}/chartdata;type=quote;range=3m/json'.format(ticker)\n",
      "result = urllib2.urlopen(api_url).read()\n",
      "data = json.loads(result.decode('utf-8').replace('finance_charts_json_callback( ','')[:-1])  # strip away the javascript and load json\n",
      "df = pd.DataFrame.from_records(data['series'])\n",
      "df['Date'] = pd.to_datetime(df['Date'],format='%Y%m%d')\n",
      "df = df.set_index(\"Date\")\n",
      "df = df[[\"open\",\"close\"]].ix[1:9,]\n",
      "df.index"
     ],
     "language": "python",
     "metadata": {},
     "outputs": [
      {
       "metadata": {},
       "output_type": "pyout",
       "prompt_number": 74,
       "text": [
        "DatetimeIndex(['2015-03-11', '2015-03-12', '2015-03-13', '2015-03-16',\n",
        "               '2015-03-17', '2015-03-18', '2015-03-19', '2015-03-20'],\n",
        "              dtype='datetime64[ns]', name=u'Date', freq=None, tz=None)"
       ]
      }
     ],
     "prompt_number": 74
    },
    {
     "cell_type": "code",
     "collapsed": false,
     "input": [],
     "language": "python",
     "metadata": {},
     "outputs": []
    },
    {
     "cell_type": "code",
     "collapsed": false,
     "input": [],
     "language": "python",
     "metadata": {},
     "outputs": []
    }
   ],
   "metadata": {}
  }
 ]
}