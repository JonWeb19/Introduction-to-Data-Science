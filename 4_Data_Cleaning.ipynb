{
 "metadata": {
  "name": "",
  "signature": "sha256:962ee5987e14918246e42ae1f707af5d57d45c4e5953bfa135c7af14e0c2a232"
 },
 "nbformat": 3,
 "nbformat_minor": 0,
 "worksheets": [
  {
   "cells": [
    {
     "cell_type": "markdown",
     "metadata": {},
     "source": [
      "Data Cleaning\n",
      "===\n",
      "Coming Soon"
     ]
    },
    {
     "cell_type": "code",
     "collapsed": false,
     "input": [
      "import requests\n",
      "import json\n",
      "\n",
      "access_token = \"replace this string with your access token\""
     ],
     "language": "python",
     "metadata": {},
     "outputs": [],
     "prompt_number": 33
    },
    {
     "cell_type": "code",
     "collapsed": false,
     "input": [
      "url = \"https://api.instagram.com/v1/users/search?q=beyonce&access_token=%s\"%access_token\n",
      "response = requests.get(url)\n",
      "response_data = json.loads(response.text)\n",
      "response_data['data'][0]['full_name']"
     ],
     "language": "python",
     "metadata": {},
     "outputs": [
      {
       "metadata": {},
       "output_type": "pyout",
       "prompt_number": 37,
       "text": [
        "u'Beyonc\\xe9'"
       ]
      }
     ],
     "prompt_number": 37
    },
    {
     "cell_type": "code",
     "collapsed": false,
     "input": [],
     "language": "python",
     "metadata": {},
     "outputs": []
    }
   ],
   "metadata": {}
  }
 ]
}