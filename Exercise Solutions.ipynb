{
 "metadata": {
  "name": "",
  "signature": "sha256:034ff292eab2fa67f077ca2adba7055066dbca6b38807630120ba7d4c93f2f8a"
 },
 "nbformat": 3,
 "nbformat_minor": 0,
 "worksheets": [
  {
   "cells": [
    {
     "cell_type": "heading",
     "level": 4,
     "metadata": {},
     "source": [
      "Exercise 1.1"
     ]
    },
    {
     "cell_type": "code",
     "collapsed": false,
     "input": [
      "import time\n",
      "import numpy as np\n",
      "import math\n",
      "\n",
      "x = np.arange(0,10,0.00001)\n",
      "print(\"x is a %d element array\"%len(x))\n",
      "\n",
      "t0 = time.time()\n",
      "y_np = np.sin(x)+np.cos(x)\n",
      "print(\"this operation took %f seconds\"% (time.time()-t0))\n",
      "\n",
      "t0 = time.time()\n",
      "y_python = [math.sin(xi)+math.cos(xi) for xi in x]\n",
      "print(\"this operation took %f seconds\"% (time.time()-t0))"
     ],
     "language": "python",
     "metadata": {},
     "outputs": [
      {
       "output_type": "stream",
       "stream": "stdout",
       "text": [
        "x is a 1000000 element array\n",
        "this operation took 0.069016 seconds"
       ]
      },
      {
       "output_type": "stream",
       "stream": "stdout",
       "text": [
        "\n",
        "this operation took 0.628526 seconds"
       ]
      },
      {
       "output_type": "stream",
       "stream": "stdout",
       "text": [
        "\n"
       ]
      }
     ],
     "prompt_number": 1
    },
    {
     "cell_type": "code",
     "collapsed": false,
     "input": [],
     "language": "python",
     "metadata": {},
     "outputs": []
    }
   ],
   "metadata": {}
  }
 ]
}