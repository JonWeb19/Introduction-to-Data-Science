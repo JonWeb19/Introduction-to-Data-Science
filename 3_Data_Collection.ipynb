{
 "metadata": {
  "name": "",
  "signature": "sha256:1c22f15d0488af0eadf61bb8977ae2c239b613637843d146d9adb9aaf3bcb868"
 },
 "nbformat": 3,
 "nbformat_minor": 0,
 "worksheets": [
  {
   "cells": [
    {
     "cell_type": "markdown",
     "metadata": {},
     "source": [
      "Data Collection\n",
      "===\n",
      "Up until now, the data that you've been working with has been given to in the form of a text file, a database, or in a python pickle. In this module, we'll learn a few techniques for writing our own python scripts for collecting data from the internet. \n",
      "\n",
      "Collecting data from the internet can be done in one of two ways:\n",
      "1. through an API (Application Program Interface)\n",
      "2. by parsing html\n",
      "\n",
      "The API route is always preferable as it is (usually) sactioned by whomever is hosting the data, which allows them to dictate terms of use and monitor and restrict how their service is used. An access token (or \"key\") is typically required to access data from an official API.\n",
      "\n",
      "Not all websites provide a public API for accessing data. In those cases, you may have to write a custom HTML parser. HTML is the language that the static components of webpages are written in. This code is usually well structured and it is often times not difficult to write a short script to find the elements of a interest in the HTML.\n",
      "\n",
      "Getting Data via an API\n",
      "---\n",
      "Each API is different as is the process getting an API key. Usually getting an API key is as simple as creating an account and registering for a key. Almost all companies that offer a public API, also offer documentation on how to use their API and how to get a key. Here's Instagram's Developer's page: https://instagram.com/developer/\n",
      "\n",
      "Go ahead and go there and register a new client.  \n",
      "\n",
      ">**Note:** Most developers have their own web application and are using the Instagram API to allow the users of their web app to integrate their instagram data with their app. The client ID and client secret are specific to the web application and the access token is specific to the user of the web application. You can think of the access token as a custom username and password that the client can use on behalf of its users to get access to certain data that is only available to a user logged into Instagram. Something similar happens everytime you use facebook or google to \"login\" to a third party site. The third party side gets an access token from facebook or google and can use that to get your name, birthdate, gender or any other information that you've agreed to give it access to.\n",
      "Although we won't be making any requests on anybody elses behalf, we'll still need an access token to access Instagram data as though we were logged in.\n",
      "\n",
      "When filling out the form to register your client. You can use a personal webpage or any publicly available webpage for the \"Website URL\" and \"Redirect URI\". Before clicking the \"Register\" button, click the \"Security\" tab and uncheck the box that says \"Disable implicit OAuth\".  After you've registered write down your Client Id. Now click on the \"Autentecation\" tab on the left and follow the \"Client-Side (Implicit) Authentication\" directions to get an access token.\n",
      "\n",
      ">**Note:** Where the directions say \"Direct your user to our authorization URL\" you can copy and paste that url in your browser. Make sure you replace \"CLIENT-ID\" with your client id and \"REDIRECT-URI\" with whatever redirect url you chose when registering your client. When you click the \"authorize\" button, you'll get redirected to your \"Redirect URI\", but the url will include something like \"#access_token=703990239.f1d54a3.8cf94c42373e43a2951bce01d7ac0bf1\". Everything after the \"=\" is your access_token.\n",
      "\n",
      "Once you finish you should receive a client id. Replace the strings below with your client id and access token before continuing with the rest of this module."
     ]
    },
    {
     "cell_type": "code",
     "collapsed": false,
     "input": [
      "client_id = \"replace this string with your client id\"\n",
      "access_token = \"replace this string with your access token\""
     ],
     "language": "python",
     "metadata": {},
     "outputs": [],
     "prompt_number": 3
    },
    {
     "cell_type": "markdown",
     "metadata": {},
     "source": [
      "In order to get data from Instagram, we'll be making \"requests\" to their API. We'll be making our requests through python, most you could also make a request directly from your browser. Your browser is in fact making dozens or even hundreds of requests every time it loads a web page. In the cases where your browser loads a web page, it's converting HTML into well formatted human-readable content. When we make requests to an API we'll usually get back content that was designed for a computer to read. Paste the following url (replacing YOUR-ACCESS-TOKEN with your access token) into your browser.\n",
      "\n",
      "````\n",
      "https://api.instagram.com/v1/users/search?q=adamhajari&access_token=YOUR-ACCESS-TOKEN\n",
      "````\n",
      "\n",
      "What you get back is a JSON object that contains metadata for the Instagram user `adamhajari`. We breifly saw JSON objects in the previous module. They're identical in structure to python dictionaries, and python comes with a library for converting JSON strings into a dictionary.\n",
      "\n",
      "Let's make that same API request, now using python's `requests` library:"
     ]
    },
    {
     "cell_type": "code",
     "collapsed": false,
     "input": [
      "import requests\n",
      "url = \"https://api.instagram.com/v1/users/search?q=adamhajari&access_token=%s\"%access_token\n",
      "response = requests.get(url)\n",
      "response.text"
     ],
     "language": "python",
     "metadata": {},
     "outputs": [
      {
       "metadata": {},
       "output_type": "pyout",
       "prompt_number": 15,
       "text": [
        "u'{\"meta\":{\"code\":200},\"data\":[{\"username\":\"adamhajari\",\"profile_picture\":\"https:\\\\/\\\\/instagramimages-a.akamaihd.net\\\\/profiles\\\\/profile_703880175_75sq_1385171062.jpg\",\"id\":\"703880175\",\"full_name\":\"Adam Hajari\"}]}'"
       ]
      }
     ],
     "prompt_number": 15
    },
    {
     "cell_type": "markdown",
     "metadata": {},
     "source": [
      "The response object has other metadata about the response (success/error codes, headers, etc.), but we're only interested in the content (or \"text\") of the response. As we saw before, the response text is a JSON string. We'll use python's `json` library to turn that string into a dictionary"
     ]
    },
    {
     "cell_type": "code",
     "collapsed": false,
     "input": [
      "import json\n",
      "response_data = json.loads(response.text)\n",
      "response_data"
     ],
     "language": "python",
     "metadata": {},
     "outputs": [
      {
       "metadata": {},
       "output_type": "pyout",
       "prompt_number": 16,
       "text": [
        "{u'data': [{u'full_name': u'Adam Hajari',\n",
        "   u'id': u'703880175',\n",
        "   u'profile_picture': u'https://instagramimages-a.akamaihd.net/profiles/profile_703880175_75sq_1385171062.jpg',\n",
        "   u'username': u'adamhajari'}],\n",
        " u'meta': {u'code': 200}}"
       ]
      }
     ],
     "prompt_number": 16
    },
    {
     "cell_type": "markdown",
     "metadata": {},
     "source": [
      "which we saw how to work with in the previous module:"
     ]
    },
    {
     "cell_type": "code",
     "collapsed": false,
     "input": [
      "user_id = response_data['data'][0]['id']\n",
      "user_id"
     ],
     "language": "python",
     "metadata": {},
     "outputs": [
      {
       "metadata": {},
       "output_type": "pyout",
       "prompt_number": 19,
       "text": [
        "u'703880175'"
       ]
      }
     ],
     "prompt_number": 19
    },
    {
     "cell_type": "markdown",
     "metadata": {},
     "source": [
      ">**Note:** The \"data\" is actually a list of dictionaries (with only one element), we need to specify that we want the first element in that list\n",
      "\n",
      "This is the Basic workflow for using python to get data from the internet:\n",
      "1. Make a request and get the content\n",
      "2. convert the content into a parsable python object (like a dictionary)\n",
      "3. get the data of interest and do something with it\n",
      "\n",
      "**Exercise 3.1:**\n",
      "Write a function that takes an Instagram username and returns an instagram user id.\n",
      "\n",
      "\n",
      "###API Parameters\n",
      "Instagram's [recent media user endpoint](https://instagram.com/developer/endpoints/users/#get_users_media_recent) returns recent posts for a given user id. By default, it will return 20 of the most recent posts, but you can supply parameters to override some of the defaults. For instance, if you wanted the last 20 posts from 2014, you include the `max_timestamp` parameter in your request with value 1420070400.\n",
      "\n",
      ">**side note: what is a unix timestamp?**  A unix timestamp is the number of seconds since January 1, 1970. While it's a pretty inconvenient way to represent time from the point-of-view of human readability, you'll often see it used in data storage because it's easier to use in calculations, takes up less space, and is faster to lookup than a datetime string. Python's `datetime` library has a few functions for converting to and from unix time. You can also do these conversion for unix timestamps stored in a dataframe with pandas. And, if you have a single unix timestamp that you're going to lookup just once, you can also do so manually [here](http://www.epochconverter.com).\n",
      "\n",
      "The API parameters are passed in as a suffix to the url. The first parameter is preceded with a `?` and all subsequent parameters are separated by an `&`. All api request require at least one parameter (the access token). A request url using the `max_timestamp` parameter would look like this:\n",
      "````\n",
      "https://api.instagram.com/v1/users/260133476/media/recent/?access_token=703990239.f1d54a3.8cf94c42373e43a2951bce01d7ac0bf1&max_timestamp=1420070400\n",
      "````\n",
      "You can paste this url in your browser to see the results (be sure the use your own access_token). Note that despite what is implied by the instagram api documentation, your request params should be all lowercase.\n",
      "\n",
      ">**PRO-TIP:** There are browser extensions that make it much easier to view json in your browser (everything is well-formatted and you can collapse values). For those of you who use the chrome web browser, [here's the json formatting extentsion that I use](https://chrome.google.com/webstore/detail/jsonview/chklaanhfefbnpoihckbnefhakgolnmc?hl=en). You may have to restart your to start the extension.\n",
      "\n",
      "**Exercise 3.2:** Get the most recent 30 instagram posts by The Alabama Shakes (instagram username: alabama_shakes). Record the id, the link, the number of comments, the number of likes, and the filter. Put the results in a dataframe.\n",
      "\n",
      "###Pagination\n",
      "An API request doesn't always return all availalbe data. For instance, by default you only get the 20 most recent posts from Instagram's recent media endpoint, but even using the `count` param you can only get a maximum of 33 posts per request. One solution to get data for all posts is to use the `max_id` param and pass it the lowest id of your current results and continue to do this (using a `while-loop`) until the API returns an empty data set. If you're lucky, the API results will include a paginiation link that you can follow to get the next page for you. Then to get all of the results you'd just continue to follow the pagination link until there were no more pagination links.\n",
      "\n",
      "**Exercise 3.3:** Get *every* instagram post by the Alabama Shakes and put the same values from above in another dataframe. Determine which was the bands most popular post and what their favorite filter is.\n"
     ]
    },
    {
     "cell_type": "code",
     "collapsed": false,
     "input": [
      "import pandas as pd"
     ],
     "language": "python",
     "metadata": {},
     "outputs": [],
     "prompt_number": 20
    },
    {
     "cell_type": "code",
     "collapsed": false,
     "input": [
      "pd.datetime.fromtimestamp(1420070400)"
     ],
     "language": "python",
     "metadata": {},
     "outputs": [
      {
       "metadata": {},
       "output_type": "pyout",
       "prompt_number": 21,
       "text": [
        "datetime.datetime(2014, 12, 31, 18, 0)"
       ]
      }
     ],
     "prompt_number": 21
    },
    {
     "cell_type": "code",
     "collapsed": false,
     "input": [
      "import datetime"
     ],
     "language": "python",
     "metadata": {},
     "outputs": [],
     "prompt_number": 22
    },
    {
     "cell_type": "code",
     "collapsed": false,
     "input": [],
     "language": "python",
     "metadata": {},
     "outputs": []
    }
   ],
   "metadata": {}
  }
 ]
}