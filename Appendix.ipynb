{
 "cells": [
  {
   "cell_type": "markdown",
   "metadata": {},
   "source": [
    "# Appendix"
   ]
  },
  {
   "cell_type": "markdown",
   "metadata": {},
   "source": [
    "# 1. Install Necessary Packages\n",
    "\n",
    "Anaconda offers a suite of packages for Python for science-related modules. By installing Anaconda, you will no longer have to install each module individually (e.g. matplotlib, ipython, pandas etc.) These are the basic packages necessary for data science in python. In the event there are additional modules necessary, these are possible to install through conda install * module name” in terminal. Do not use pip install. \n",
    "\n",
    "Download anaconda through this page: http://continuum.io/downloads, select install for me only. \n",
    "\n",
    "Once you have installed anaconda, check conda list, it should list all the packages you have. If it returns: “command not valid” you may have issues with your environment path variable. If so type “export PATH=~/anaconda/bin:$PATH”  into terminal in order to rectify this. Check conda list again. You should now be able to view all the packages. You may also be prompted to upgrade certain packages. If so type “conda update pip”, and select Y. "
   ]
  }
 ],
 "metadata": {
  "kernelspec": {
   "display_name": "Python 2",
   "language": "python",
   "name": "python2"
  },
  "language_info": {
   "codemirror_mode": {
    "name": "ipython",
    "version": 2
   },
   "file_extension": ".py",
   "mimetype": "text/x-python",
   "name": "python",
   "nbconvert_exporter": "python",
   "pygments_lexer": "ipython2",
   "version": "2.7.10"
  }
 },
 "nbformat": 4,
 "nbformat_minor": 0
}
