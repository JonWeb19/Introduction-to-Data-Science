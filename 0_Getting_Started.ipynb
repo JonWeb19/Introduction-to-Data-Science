{
 "cells": [
  {
   "cell_type": "markdown",
   "metadata": {},
   "source": [
    "Introduction to Data Science\n",
    "===\n",
    "Welcome to our Introduction to Data Science. I've broken the material up into [N] modules that are inteded to be executed sequentially. I expect that people will come to this material with different backgrounds and different levels of experience, so feel free to skip any of the modules for the material that you're already comfortable with.\n",
    "\n",
    "[more on what's included]\n",
    "\n",
    "There's a table of contents at the bottom of this notebook for those who want to skip ahead and browse what's available here.\n",
    "\n",
    "Python\n",
    "-----\n",
    "Throughout this course we'll be putting together a \"data science toolbox\", a set of resouces that you'll use to collect, clean, store, explore, visualize, and analyze data. There are several good platforms for doing these tasks, and in this tutorial we'll be using the Python programming language for almost all of them.\n",
    "\n",
    "Python's major advantages are that\n",
    "1. it's free\n",
    "2. it's easy to learn and use\n",
    "3. there's a Python library that solves almost every problem we'll come up against\n",
    "\n",
    "Python comes with a core set of libraries, but a number of the data tools we'll need are not included. You could download the libraries for these tools one-by-one, but there are a number of dependencies that make this process a little bit tedious. Instead, I recommend downloading the Anaconda distribution of Python provided by Continuum Analytics [link]. It comes with almost all of the libraries you'll ever need *and* it takes care of all of the dependency issues that would otherwise make you hate your life.\n",
    "\n",
    "There aren't many pre-requisites for this course, but basic familiarity of Python is one of them. There are two online tutorials that I recommend:\n",
    "1. https://docs.python.org/2/tutorial/index.html\n",
    "2. http://www.codecademy.com/en/tracks/python\n",
    "\n",
    "The first comes directly from python, and, if you can get through it, is probably the best option. If option one feels a little over your head, the second tutorial from code academy is a little bit easier to get started with. It even allows you to complete all of the exercises right in your browser.\n",
    "\n",
    "If you have other recommendations for python tutorials, please let me know!\n",
    "\n",
    "\n",
    "The Command Line\n",
    "--\n",
    "One great feature of python is that it comes with a command line tool that allows you to run python code one line at a time and print the results to your screen (this is not the case with languages like C++ or Java). This is one (of the many) features that makes python so easy to learn.\n",
    "\n",
    "Getting to the command line will be slightly different depending on whether you're operating system is Mac, Windows, or Linux.\n",
    "\n",
    "On Mac you'll use the Terminal app. On Windows you'll open the Command Prompt program. If you're using Linux, I'll assume you've already skipped this section. Regardless of whether you're on Mac, Windows, or Linux, I'll be referring to your command line tool as a \"terminal\".\n",
    "\n",
    "\n",
    "Github\n",
    "--\n",
    "All of the modules and supporting material for this course are hosted on github here: [link]. If you don't already have one, setup a github account, fork this repo [link], and clone your forked copy of the repo to whatever computers you'll be working from.\n",
    "\n",
    "\n",
    "IPython and IPython Notebook\n",
    "--\n",
    "IPython is an alternative command line tool to the one that comes with python. It's part of the Anaconda python distribution, so if you've installed Anaconda you can open an ipython shell just by typing ipython in your terminal window.\n",
    "\n",
    "The ipython shell has all of the functionality of the regular python shell, plus several handy extras. The two features that you'll probably find most helpful are tab completion and built in object descriptions [http://ipython.org/ipython-doc/stable/interactive/tutorial.html#tab-completion].\n",
    "\n",
    "IPython also comes with an interactive browser-based editor that combines code execution, plots, and text formatting. It's a great tool for both exploring data, sharing your results, and learning how to use new python tools. All of the modules for this course are written in ipython notebooks which allows you to execute all of the examples in your browser and explore the results yourself.\n",
    "\n",
    "To start exploring the ipython notbooks included in this module, open a terminal window, go to the directory where you've cloned the course material and run:\n",
    "\n",
    "````\n",
    "$ ipython notebook --pylab=inline\n",
    "````\n",
    "\n",
    "A new window should open up in your browser with a list of all of the available modules. Click on any of them will open that module in a new tab. If you put your cursor in a cell with python code, pressing shift+enter will execute that code. You can add to that code to modify and/or print the results, or you can create a new cell with the plus button at the top left corner of the ipython notebook.\n",
    "\n",
    "Don't stop at reading the material and executing the code that's written for you. Use ipython's ? feature to bring up help pages and it's tab completion feature to explore what options are available to you with different methods.\n",
    "\n",
    "The exercise at the end of this module will show you a few ways you can use the ipython notebook.\n",
    "\n",
    "Table of Contents\n",
    "---\n",
    "  <b>0.</b> Getting Started<br>\n",
    "  <b>1.</b> Python Data Tools<br>\n",
    "  <b>2.</b> Data Storage<br>\n",
    "  <b>3.</b> Data Collection<br>\n",
    "  <b>4.</b> Data Cleaning<br>\n",
    "  <b>5.</b> Exploring Data<br>\n",
    "  <b>6.</b> Statistical Methods<br>\n",
    "  <b>7.</b> Web Apps with Spyre<br>"
   ]
  },
  {
   "cell_type": "markdown",
   "metadata": {},
   "source": [
    "Exercise: Exploring python with ipython notebooks\n",
    "---\n",
    "let's start by creating a list. The next block is python code so you can execute it by putting your cursor in the cell and either pressing the play button at the top of the notebook or by pressing shift+return on your keyboard."
   ]
  },
  {
   "cell_type": "code",
   "execution_count": 12,
   "metadata": {
    "collapsed": false
   },
   "outputs": [],
   "source": [
    "list_of_fruits = ['apple','pear','orange']"
   ]
  },
  {
   "cell_type": "markdown",
   "metadata": {},
   "source": [
    "When you press execute the cell above (either by pressing shift+return or by pressing the play button at the top of the notebook), you create a new variable named `list_of_fruits`. `list_of_fruits` is a python list object, which has a few methods such as `append` and `count`. Type \n",
    "````\n",
    "list_of_fruits.\n",
    "````\n",
    "and press tab to see a full list of all methods and properties available to the list object. For any of these methods you can put a `?` at the beginning of the line to get a short description of what the method does and to see what parameters need to be included. For instance, you can see that there's a `reverse` method. It's probably clear what this method should do, but you may not know whether it creates a *new* list object or does an \"in place\" reversal to the existing object. To find out execute:\n",
    "````\n",
    "?list_of_fruits.reverse()\n",
    "````\n",
    "in the cell below. This should bring up a short description of the `reverse` method making it a little more clear how it works."
   ]
  },
  {
   "cell_type": "markdown",
   "metadata": {},
   "source": [
    "Now let's do something to this list. Add a \"watermelon\" item to the `list_of_fruits` object and then reverse the list. You can print the results with the line:\n",
    "````\n",
    "print(list_of_fruits)\n",
    "````\n",
    "Finally, remove the \"orange\" from the list. Your final result should look like:\n",
    "````\n",
    "['watermelon', 'pear', 'apple']\n",
    "````"
   ]
  }
 ],
 "metadata": {
  "kernelspec": {
   "display_name": "Python 2",
   "language": "python",
   "name": "python2"
  },
  "language_info": {
   "codemirror_mode": {
    "name": "ipython",
    "version": 2
   },
   "file_extension": ".py",
   "mimetype": "text/x-python",
   "name": "python",
   "nbconvert_exporter": "python",
   "pygments_lexer": "ipython2",
   "version": "2.7.10"
  }
 },
 "nbformat": 4,
 "nbformat_minor": 0
}
