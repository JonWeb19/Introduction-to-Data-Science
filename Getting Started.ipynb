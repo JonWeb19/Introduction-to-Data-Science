{
 "metadata": {
  "name": "",
  "signature": "sha256:5e57821eebbedf2167435b440db4a89b2a425bf503820fea2a0992b80414c301"
 },
 "nbformat": 3,
 "nbformat_minor": 0,
 "worksheets": [
  {
   "cells": [
    {
     "cell_type": "heading",
     "level": 1,
     "metadata": {},
     "source": [
      "Introduction to Data Science"
     ]
    },
    {
     "cell_type": "markdown",
     "metadata": {},
     "source": [
      "Welcome to our Introduction to Data Science. I've broken the material up into [N] modules that are inteded to be executed sequentially. I expect that people will come to this material with different backgrounds and different levels of experience, so feel free to skip any of the modules for the material that you're already comfortable with.\n",
      "\n",
      "[more on what's included]\n",
      "\n",
      "There's a table of contents at the bottom of this notebook for those who want to skip ahead and browse what's available here."
     ]
    },
    {
     "cell_type": "markdown",
     "metadata": {},
     "source": [
      "Python\n",
      "-----\n",
      "Throughout this course we'll be putting together a \"data science toolbox\", a set of resouces that you'll use to collect, clean, store, explore, visualize, and analyze data. There are several good platforms for doing these tasks, and in this tutorial we'll be using the Python programming language for almost all of them.\n",
      "\n",
      "Python's major advantages are that\n",
      "1. it's free\n",
      "2. it's easy to learn and use\n",
      "3. there's a Python library that solves almost every problem we'll come up against\n",
      "\n",
      "Python comes with a core set of libraries, but a number of the data tools we'll need are not included. You could download the libraries for these tools one-by-one, but there are a number of dependencies that make this process a little bit tedious. Instead, I recommend downloading the Anaconda distribution of Python provided by Continuum Analytics [link]. It comes with almost all of the libraries you'll ever need *and* it takes care of all of the dependency issues that would otherwise make you hate your life.\n",
      "\n",
      "There aren't many pre-requisites for this course, but basic familiarity of Python is one of them. There are two online tutorials that I recommend:\n",
      "1. https://docs.python.org/2/tutorial/index.html\n",
      "2. http://www.codecademy.com/en/tracks/python\n",
      "\n",
      "The first comes directly from python, and, if you can get through it, is probably the best option. If option one feels a little over your head, the second tutorial from code academy is a little bit easier to get started with. It even allows you to complete all of the exercises right in your browser.\n",
      "\n",
      "If you have other recommendations for python tutorials, please let me know!"
     ]
    },
    {
     "cell_type": "markdown",
     "metadata": {},
     "source": [
      "The Command Line\n",
      "--\n",
      "One of the great features of python is that it comes with a command line tool that allows you to run python code one line at a time and print the results to your screen (this is not the case with languages like C++ or Java). This is one (of the many) features that makes python so easy to learn.\n",
      "\n",
      "Getting to the command line will be slightly different depending on whether you're operating system is Mac, Windows, or Linux.\n",
      "\n",
      "On Mac you'll use the Terminal app. On Windows you'll open the Command Prompt program. If you're using Linux, I'll assume you've already skipped this section. Regardless of whether you'r on Mac, Windows, or Linux, I'll be referring to your command line tool as a \"terminal\"."
     ]
    },
    {
     "cell_type": "markdown",
     "metadata": {},
     "source": [
      "IPython and IPython Notebook\n",
      "--\n",
      "IPython is an alternative command line tool to the one that comes with python. It's part of the Anaconda python distribution, so if you've installed Anaconda you can open an ipython shell just by typing ipython in your terminal window.\n",
      "\n",
      "The ipython shell has all of the functionality of the regular python shell, plus several handy extras. The two features that you'll probably find most helpful are tab completion and built in object descriptions [http://ipython.org/ipython-doc/stable/interactive/tutorial.html#tab-completion].\n",
      "\n",
      "IPython also comes with an interactive browser based editor that combines code execution, plots, and text formatting. It's a great tool for both exploring data and sharing your results. All of the modules for this course are written in ipython notebooks which allows you to execute all of the examples in your browser and explore the results yourself."
     ]
    },
    {
     "cell_type": "markdown",
     "metadata": {},
     "source": [
      "Github\n",
      "--\n",
      "All of the modules and supporting material for this course are hosted on github here: [link]. If you don't already have one, setup a github account, fork this repo [link], and clone your forked copy of the repo to whatever computers you'll be working from."
     ]
    },
    {
     "cell_type": "markdown",
     "metadata": {},
     "source": [
      "Table of Contents\n",
      "---\n",
      "1. Getting Started\n",
      "2. Python Data Tools\n",
      "3. Data Storage\n",
      "4. Data Collection\n",
      "5. Data Cleaning\n",
      "6. Exploring Data\n",
      "7. Statistical Methods\n",
      "8. Web Apps with Spyre"
     ]
    },
    {
     "cell_type": "code",
     "collapsed": false,
     "input": [],
     "language": "python",
     "metadata": {},
     "outputs": []
    }
   ],
   "metadata": {}
  }
 ]
}